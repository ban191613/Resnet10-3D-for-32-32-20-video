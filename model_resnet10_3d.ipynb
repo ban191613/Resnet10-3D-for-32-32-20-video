{
 "cells": [
  {
   "cell_type": "code",
   "execution_count": 28,
   "metadata": {
    "collapsed": true
   },
   "outputs": [
    {
     "name": "stdout",
     "output_type": "stream",
     "text": [
      "torch.Size([21412, 3, 20, 32, 32]) torch.Size([21412])\n",
      "torch.Size([2932, 3, 20, 32, 32]) torch.Size([2932])\n"
     ]
    }
   ],
   "source": [
    "import h5py\n",
    "import numpy as np\n",
    "import torch\n",
    "from torch.utils.data import Dataset, DataLoader\n",
    "\n",
    "import torch.nn as nn\n",
    "import torch.nn.functional as F\n",
    "from tqdm import tqdm\n",
    "\n",
    "\n",
    "# 设置文件路径并得到数据集\n",
    "train_data_file = \"../CNN/data/train_data/\"\n",
    "test_data_file = \"../CNN/data/test_data/\"\n",
    "# model_path   torch.save(model.state_dict(), '../CNN/Cmodel_weights.pth')\n",
    "model_path = \"../CNN/\"\n",
    "\n",
    "# 超参数\n",
    "learning_rate = 1e-3  # 1e-4\n",
    "weight_decay = 1e-4\n",
    "batch_size = 32\n",
    "n_epochs = 100\n",
    "best_acc= 0\n",
    "#提取数据\n",
    "def data_image_label(mode):  #shuffle\n",
    "        if mode == 'train':\n",
    "            for i in range(1, 9):\n",
    "                date_path = f\"{train_data_file}\" + \"traindata\" + f\"{i}\" + \".mat\"\n",
    "\n",
    "                if i != 1:\n",
    "                    data_image = np.array(h5py.File(date_path)[\"video\"], dtype=np.float32)\n",
    "                    data_label = np.array(h5py.File(date_path)[\"label\"], dtype=np.float32)\n",
    "                    data_image=np.expand_dims(data_image,axis=2)  #增加维度\n",
    "                    video_image=np.zeros(shape=(len(data_image)-20+1,3,20,32,32),dtype=np.float32)\n",
    "                    for i in range(len(data_image)-20+1):\n",
    "                        for j  in range(20):\n",
    "                            if j != 0:\n",
    "                                video_image_20=np.append(video_image_20,data_image[i+j,:,:,:,:],axis=1)\n",
    "                            else:\n",
    "                                video_image_20=data_image[i+j,:,:,:,:]\n",
    "                        video_image_20=np.expand_dims(video_image_20,axis=0)  #增加维度\n",
    "                        video_image[i,:,:,:,:]=video_image_20\n",
    "                    # print(f\"video_image.size:{video_image.shape}\")\n",
    "                    output_video_image=np.append(output_video_image,video_image,axis=0)\n",
    "                    output_video_label=np.append(output_video_label,data_label[0:len(data_image)-20+1,:],axis=0)\n",
    "\n",
    "                else:\n",
    "                    data_image = np.array(h5py.File(date_path)[\"video\"], dtype=np.float32)\n",
    "                    data_label = np.array(h5py.File(date_path)[\"label\"], dtype=np.float32)\n",
    "                    data_image=np.expand_dims(data_image,axis=2)  #增加维度\n",
    "                    video_image=np.empty(shape=(len(data_image)-20+1,3,20,32,32),dtype=np.float32)\n",
    "                    for i in range(len(data_image)-20+1):\n",
    "                        for j  in range(20):\n",
    "                            if j != 0:\n",
    "                                video_image_20=np.append(video_image_20,data_image[i+j,:,:,:,:],axis=1)\n",
    "                            else:\n",
    "                                video_image_20=data_image[i+j,:,:,:,:]\n",
    "                        video_image_20=np.expand_dims(video_image_20,axis=0)  #增加维度\n",
    "                        video_image[i,:,:,:,:]=video_image_20\n",
    "                    output_video_image=video_image\n",
    "                    output_video_label=data_label[0:len(data_image)-20+1,:]\n",
    "                    # print(f\"video_image.size:{video_image.shape}\")\n",
    "            image_tensor = torch.tensor(output_video_image, dtype=torch.float32)\n",
    "            label_tensor = torch.tensor(output_video_label.squeeze(), dtype=torch.long)\n",
    "            real_len = len(image_tensor)\n",
    "            print(image_tensor.shape, label_tensor.shape)\n",
    "            return image_tensor,label_tensor,real_len\n",
    "        elif mode == \"test\":\n",
    "            for i in range(1, 5):\n",
    "                date_path = f\"{test_data_file}\" + \"testdata\" + f\"{i}\" + \"_label.mat\"\n",
    "                if i != 1:\n",
    "                    data_image = np.array(h5py.File(date_path)[\"video\"], dtype=np.float32)\n",
    "                    data_label = np.array(h5py.File(date_path)[\"label\"], dtype=np.float32)\n",
    "                    data_image=np.expand_dims(data_image,axis=2)  #增加维度\n",
    "                    video_image=np.zeros(shape=(len(data_image)-20+1,3,20,32,32),dtype=np.float32)\n",
    "                    for i in range(len(data_image)-20+1):\n",
    "                        for j  in range(20):\n",
    "                            if j != 0:\n",
    "                                video_image_20=np.append(video_image_20,data_image[i+j,:,:,:,:],axis=1)\n",
    "                            else:\n",
    "                                video_image_20=data_image[i+j,:,:,:,:]\n",
    "                        video_image_20=np.expand_dims(video_image_20,axis=0)  #增加维度\n",
    "                        video_image[i,:,:,:,:]=video_image_20\n",
    "                    # print(f\"video_image.size:{video_image.shape}\")\n",
    "                    output_video_image=np.append(output_video_image,video_image,axis=0)\n",
    "                    output_video_label=np.append(output_video_label,data_label[0:len(data_image)-20+1,:],axis=0)\n",
    "                else:\n",
    "                    data_image = np.array(h5py.File(date_path)[\"video\"], dtype=np.float32)\n",
    "                    data_label = np.array(h5py.File(date_path)[\"label\"], dtype=np.float32)\n",
    "                    data_image=np.expand_dims(data_image,axis=2)  #增加维度\n",
    "                    video_image=np.empty(shape=(len(data_image)-20+1,3,20,32,32),dtype=np.float32)\n",
    "                    for i in range(len(data_image)-20+1):\n",
    "                        for j  in range(20):\n",
    "                            if j != 0:\n",
    "                                video_image_20=np.append(video_image_20,data_image[i+j,:,:,:,:],axis=1)\n",
    "                            else:\n",
    "                                video_image_20=data_image[i+j,:,:,:,:]\n",
    "                        video_image_20=np.expand_dims(video_image_20,axis=0)  #增加维度\n",
    "                        video_image[i,:,:,:,:]=video_image_20\n",
    "                    output_video_image=video_image\n",
    "                    output_video_label=data_label[0:len(data_image)-20+1,:]\n",
    "                    # print(f\"video_image.size:{video_image.shape}\")\n",
    "            image_tensor = torch.tensor(output_video_image, dtype=torch.float32)\n",
    "            label_tensor = torch.tensor(output_video_label.squeeze(), dtype=torch.long)\n",
    "            real_len = len(image_tensor)\n",
    "            print(image_tensor.shape, label_tensor.shape)\n",
    "            return image_tensor,label_tensor,real_len\n",
    "train_image_tensor,train_label_tensor,train_real_len=data_image_label('train')\n",
    "test_image_tensor,test_label_tensor,test_real_len=data_image_label('test')"
   ]
  },
  {
   "cell_type": "code",
   "execution_count": 29,
   "outputs": [
    {
     "name": "stdout",
     "output_type": "stream",
     "text": [
      "Finished reading the set of Leaves Dataset (21412 samples found)\n",
      "Finished reading the set of Leaves Dataset (2932 samples found)\n"
     ]
    }
   ],
   "source": [
    "class SAPI_FMF_Dataset(Dataset):\n",
    "    def __init__(self,image_data,label_data,data_len):\n",
    "        \"\"\"\n",
    "        Args:\n",
    "            file_path (string): 图像文件 路径\n",
    "            mode (string): 训练模式还是测试模式\n",
    "            valid_ratio (float): 验证集比例\n",
    "        \"\"\"\n",
    "        self.image_tensor=image_data\n",
    "        self.label_tensor=label_data\n",
    "        self.real_len=data_len\n",
    "        print('Finished reading the set of Leaves Dataset ({} samples found)'.format(self.real_len))\n",
    "    def __getitem__(self, index):\n",
    "        # 从 image_arr中得到索引对应的文件名\n",
    "        return self.image_tensor[index, :, :, :], self.label_tensor[index]\n",
    "    def __len__(self):\n",
    "        return self.real_len  # self.real_len = len(self.image_arr) 返回的是训练/验证/测试/图像的数量\n",
    "train_dataset = SAPI_FMF_Dataset(train_image_tensor,train_label_tensor,train_real_len)\n",
    "test_dataset = SAPI_FMF_Dataset( test_image_tensor,test_label_tensor,test_real_len)\n",
    "# 定义data loader\n",
    "train_Dataloader = torch.utils.data.DataLoader(dataset=train_dataset, batch_size=batch_size, shuffle=True,drop_last=True)  # 打开乱序  Falsenum_workers=0)\n",
    "test_Dataloader = torch.utils.data.DataLoader(dataset=test_dataset, batch_size=batch_size, shuffle=False,drop_last=False)"
   ],
   "metadata": {
    "collapsed": false
   }
  },
  {
   "cell_type": "code",
   "execution_count": 6,
   "outputs": [
    {
     "name": "stdout",
     "output_type": "stream",
     "text": [
      "cpu\n"
     ]
    }
   ],
   "source": [
    "# GPU计算\n",
    "def get_device():\n",
    "    return 'cuda' if torch.cuda.is_available() else 'cpu'\n",
    "device = get_device()\n",
    "print(device)"
   ],
   "metadata": {
    "collapsed": false
   }
  },
  {
   "cell_type": "code",
   "execution_count": 1,
   "outputs": [
    {
     "name": "stderr",
     "output_type": "stream",
     "text": [
      "C:\\Users\\dell\\.conda\\envs\\ML1\\lib\\site-packages\\tqdm\\auto.py:22: TqdmWarning: IProgress not found. Please update jupyter and ipywidgets. See https://ipywidgets.readthedocs.io/en/stable/user_install.html\n",
      "  from .autonotebook import tqdm as notebook_tqdm\n"
     ]
    }
   ],
   "source": [
    "#3维残差网络\n",
    "import torch\n",
    "import torch.nn as nn\n",
    "import torch.nn.functional as F\n",
    "\n",
    "class ResNet10_3D(nn.Module):\n",
    "    def __init__(self, num_classes=2):\n",
    "        super(ResNet10_3D, self).__init__()\n",
    "        self.conv1 = nn.Conv3d(3, 64, kernel_size=3, stride=1, padding=1, bias=False)\n",
    "        self.bn1 = nn.BatchNorm3d(64)\n",
    "        self.relu = nn.ReLU(inplace=True)\n",
    "        self.maxpool = nn.MaxPool3d(kernel_size=3, stride=2, padding=1)\n",
    "        self.layer1 = self._make_layer(64, 64, 2)\n",
    "        self.layer2 = self._make_layer(64, 128, 2, stride=2)\n",
    "        self.layer3 = self._make_layer(128, 256, 2, stride=2)\n",
    "        self.layer4 = self._make_layer(256, 512, 2, stride=2)\n",
    "        self.avgpool = nn.AdaptiveAvgPool3d((1, 1, 1))\n",
    "        self.fc = nn.Sequential(\n",
    "            nn.Linear(512, num_classes),\n",
    "            nn.Dropout(0.5)\n",
    "        )\n",
    "\n",
    "    def _make_layer(self, inplanes, planes, blocks, stride=1):\n",
    "        downsample = None\n",
    "        if stride != 1 or inplanes != planes:\n",
    "            downsample = nn.Sequential(\n",
    "                nn.Conv3d(inplanes, planes, kernel_size=1, stride=stride, bias=False),\n",
    "                nn.BatchNorm3d(planes)\n",
    "            )\n",
    "        layers = [ResBlock(inplanes, planes, stride, downsample)]\n",
    "        inplanes = planes\n",
    "        for _ in range(1, blocks):\n",
    "            layers.append(ResBlock(inplanes, planes))\n",
    "        return nn.Sequential(*layers)\n",
    "\n",
    "    def forward(self, x):\n",
    "        x = self.conv1(x)\n",
    "        x = self.bn1(x)\n",
    "        x = self.relu(x)\n",
    "        x = self.maxpool(x)\n",
    "\n",
    "        x = self.layer1(x)\n",
    "        x = self.layer2(x)\n",
    "        x = self.layer3(x)\n",
    "        x = self.layer4(x)\n",
    "\n",
    "        x = self.avgpool(x)\n",
    "        x = x.view(x.size(0), -1)\n",
    "        x = self.fc(x)\n",
    "        return x\n",
    "\n",
    "\n",
    "class ResBlock(nn.Module):\n",
    "    def __init__(self, inplanes, planes, stride=1, downsample=None):\n",
    "        super(ResBlock, self).__init__()\n",
    "        self.conv1 = nn.Conv3d(inplanes, planes, kernel_size=3, stride=stride, padding=1, bias=False)\n",
    "        self.bn1 = nn.BatchNorm3d(planes)\n",
    "        self.relu = nn.ReLU(inplace=True)\n",
    "        self.conv2 = nn.Conv3d(planes, planes, kernel_size=3, stride=1, padding=1, bias=False)\n",
    "        self.bn2 = nn.BatchNorm3d(planes)\n",
    "        self.downsample = downsample\n",
    "\n",
    "    def forward(self, x):\n",
    "        identity = x\n",
    "\n",
    "        out = self.conv1(x)\n",
    "        out = self.bn1(out)\n",
    "        out = self.relu(out)\n",
    "\n",
    "        out = self.conv2(out)\n",
    "        out = self.bn2(out)\n",
    "\n",
    "        if self.downsample is not None:\n",
    "            identity = self.downsample(x)\n",
    "\n",
    "        out += identity\n",
    "        out = self.relu(out)\n",
    "\n",
    "        return out\n",
    "model=ResNet10_3D()"
   ],
   "metadata": {
    "collapsed": false
   }
  },
  {
   "cell_type": "code",
   "execution_count": 33,
   "outputs": [
    {
     "name": "stdout",
     "output_type": "stream",
     "text": [
      "<bound method Module.parameters of AlexNet3D(\n",
      "  (conv1): Conv3d(3, 64, kernel_size=(3, 3, 3), stride=(1, 1, 1), padding=(1, 1, 1))\n",
      "  (bn1): BatchNorm3d(64, eps=1e-05, momentum=0.1, affine=True, track_running_stats=True)\n",
      "  (relu): ReLU(inplace=True)\n",
      "  (pool1): MaxPool3d(kernel_size=(1, 2, 2), stride=(1, 2, 2), padding=0, dilation=1, ceil_mode=False)\n",
      "  (conv2): Conv3d(64, 192, kernel_size=(3, 3, 3), stride=(1, 1, 1), padding=(1, 1, 1))\n",
      "  (bn2): BatchNorm3d(192, eps=1e-05, momentum=0.1, affine=True, track_running_stats=True)\n",
      "  (pool2): MaxPool3d(kernel_size=2, stride=2, padding=0, dilation=1, ceil_mode=False)\n",
      "  (conv3): Conv3d(192, 384, kernel_size=(3, 3, 3), stride=(1, 1, 1), padding=(1, 1, 1))\n",
      "  (bn3): BatchNorm3d(384, eps=1e-05, momentum=0.1, affine=True, track_running_stats=True)\n",
      "  (conv4): Conv3d(384, 256, kernel_size=(3, 3, 3), stride=(1, 1, 1), padding=(1, 1, 1))\n",
      "  (bn4): BatchNorm3d(256, eps=1e-05, momentum=0.1, affine=True, track_running_stats=True)\n",
      "  (conv5): Conv3d(256, 256, kernel_size=(3, 3, 3), stride=(1, 1, 1), padding=(1, 1, 1))\n",
      "  (bn5): BatchNorm3d(256, eps=1e-05, momentum=0.1, affine=True, track_running_stats=True)\n",
      "  (pool5): MaxPool3d(kernel_size=2, stride=2, padding=0, dilation=1, ceil_mode=False)\n",
      "  (fc6): Linear(in_features=20480, out_features=4096, bias=True)\n",
      "  (fc7): Linear(in_features=4096, out_features=4096, bias=True)\n",
      "  (fc8): Linear(in_features=4096, out_features=2, bias=True)\n",
      ")>\n"
     ]
    }
   ],
   "source": [
    "from torch import  optim\n",
    "model.to(device)\n",
    "model.device = device\n",
    "optimizer = optim.AdamW(model.parameters(), lr=1e-4,\n",
    "                        weight_decay=weight_decay)  # lr=learning_rate,weight_decay= weight_decay\n",
    "scheduler = optim.lr_scheduler.CosineAnnealingWarmRestarts(optimizer, T_0=5, T_mult=2)\n",
    "print(model.parameters)"
   ],
   "metadata": {
    "collapsed": false
   }
  },
  {
   "cell_type": "code",
   "execution_count": null,
   "outputs": [],
   "source": [
    "#训练\n",
    "from torch import  optim\n",
    "model.to(device)\n",
    "model.device = device\n",
    "optimizer = optim.AdamW(model.parameters(), lr=1e-4,\n",
    "                        weight_decay=weight_decay)  # lr=learning_rate,weight_decay= weight_decay\n",
    "scheduler = optim.lr_scheduler.CosineAnnealingWarmRestarts(optimizer, T_0=5, T_mult=2)\n",
    "print(model.parameters)\n",
    "# train\n",
    "# 对于分类任务，我们使用交叉熵作为性能的度量。\n",
    "criterion = nn.CrossEntropyLoss()\n",
    "for epoch in (range(n_epochs)):\n",
    "    # 记录训练信息\n",
    "    model.train()\n",
    "    train_loss = []\n",
    "    train_accs = []\n",
    "    for batch in tqdm(train_Dataloader):\n",
    "        # ---------- Training ----------  以下是训练模型\n",
    "        imgs, labels = batch\n",
    "        # print(imgs.shape)\n",
    "\n",
    "        logits = model(imgs)  # 将图形数据带入模型计算预测\n",
    "        # 计算交叉熵损失\n",
    "        loss = criterion(logits, labels)\n",
    "        # 清除上一步中存储在参数中的梯度。\n",
    "        optimizer.zero_grad()\n",
    "        # 计算参数的梯度。\n",
    "        loss.backward()\n",
    "        # 用计算的梯度更新参数。\n",
    "        optimizer.step()\n",
    "\n",
    "        # 计算当前批次的精度。   第一维度是0，第二维度是1\n",
    "        acc = (logits.argmax(dim=-1) == labels).float().mean()\n",
    "        acc = (logits.argmax(dim=-1) == labels.to(device)).float().mean()\n",
    "        # 记录损失和准确度\n",
    "        train_loss.append(loss.item())\n",
    "        train_accs.append(acc)\n",
    "\n",
    "    # 训练集的平均损失和精度是记录值的平均值。\n",
    "    train_loss = sum(train_loss) / len(train_loss)\n",
    "    train_acc = sum(train_accs) / len(train_accs)\n",
    "    # 更新学习率\n",
    "    scheduler.step(train_loss)\n",
    "    print(\"第%d个epoch的学习率：%f\" % (epoch + 1, optimizer.param_groups[0]['lr']))\n",
    "\n",
    "    # 打印信息\n",
    "    print(f\"[ Train | {epoch + 1:03d}/{n_epochs:03d} ] loss = {train_loss:.5f}, acc = {train_acc:.5f}\")\n",
    "# ---------- test ----------\n",
    "    model.eval()\n",
    "    test_loss = []\n",
    "    test_accs = []\n",
    "    for batch in tqdm(test_Dataloader):\n",
    "        imgs, labels = batch\n",
    "\n",
    "        # 不需要梯度验证.\n",
    "        # Using  torch.no_grad()  accelerates the forward process.\n",
    "        with torch.no_grad():\n",
    "            logits = model(imgs.to(device))\n",
    "\n",
    "        # 我们仍然可以计算损失（但不能计算梯度）。\n",
    "        loss = criterion(logits, labels.to(device))\n",
    "\n",
    "        # 计算当前批次的精度。\n",
    "        acc = (logits.argmax(dim=-1) == labels.to(device)).float().mean()\n",
    "\n",
    "        # 记录损失和准确性\n",
    "        test_loss.append(loss.item())\n",
    "        test_accs.append(acc)\n",
    "\n",
    "    # 整个验证集的平均损失和准确度是记录值的平均值\n",
    "    test_loss = sum(test_loss) / len(test_loss)\n",
    "    test_accs = sum(test_accs) / len(test_accs)\n",
    "\n",
    "    # 打印信息.\n",
    "    print(f\"[ test ]  loss = {test_loss:.5f}, acc = {test_accs:.5f}\")\n",
    "  # 如果模型改进了，在这个时间点保存一个检查点\n",
    "    if test_accs > best_acc:\n",
    "        best_acc = test_accs\n",
    "        path=model_path+\"model_weights_3d\"+f\"ResNet10_\"+f'{best_acc}'+\".pth\"\n",
    "        torch.save(model.state_dict(), path)\n",
    "        print('saving model with acc {:.3f}'.format(best_acc))"
   ],
   "metadata": {
    "collapsed": false
   }
  },
  {
   "cell_type": "code",
   "execution_count": 14,
   "outputs": [
    {
     "name": "stdout",
     "output_type": "stream",
     "text": [
      "torch.Size([582, 3, 20, 32, 32])\n",
      "Finished reading the  Dataset (582 samples found)\n"
     ]
    },
    {
     "name": "stderr",
     "output_type": "stream",
     "text": [
      "100%|██████████| 19/19 [00:10<00:00,  1.79it/s]\n"
     ]
    },
    {
     "name": "stdout",
     "output_type": "stream",
     "text": [
      "[0, 0, 0, 0, 0, 0, 0, 0, 0, 0, 0, 0, 0, 0, 0, 0, 0, 0, 0, 0, 0, 0, 0, 0, 0, 0, 0, 0, 0, 0, 0, 0, 0, 0, 0, 0, 0, 0, 0, 0, 0, 0, 0, 0, 0, 0, 0, 0, 0, 0, 0, 0, 0, 0, 0, 0, 0, 0, 0, 0, 0, 0, 0, 0, 0, 0, 0, 0, 0, 0, 0, 0, 0, 0, 0, 0, 0, 0, 0, 0, 0, 0, 0, 0, 0, 0, 0, 0, 0, 0, 0, 0, 0, 0, 0, 0, 0, 0, 0, 0, 0, 0, 0, 0, 0, 0, 0, 0, 0, 0, 0, 0, 0, 0, 0, 0, 0, 0, 0, 0, 0, 0, 0, 0, 0, 0, 0, 0, 0, 0, 0, 0, 0, 0, 0, 0, 0, 0, 0, 0, 0, 0, 0, 0, 0, 0, 0, 0, 0, 0, 0, 0, 0, 0, 0, 0, 0, 0, 0, 0, 0, 0, 0, 0, 0, 0, 0, 0, 0, 0, 0, 0, 0, 0, 0, 0, 0, 0, 0, 0, 0, 0, 0, 0, 0, 0, 0, 0, 0, 0, 0, 0, 0, 0, 0, 0, 0, 0, 0, 0, 0, 0, 0, 0, 0, 0, 0, 0, 0, 0, 0, 0, 0, 0, 0, 0, 0, 0, 0, 0, 0, 0, 0, 0, 0, 0, 0, 0, 0, 0, 0, 0, 0, 0, 0, 0, 0, 0, 0, 0, 0, 0, 0, 0, 0, 0, 0, 0, 0, 0, 0, 0, 0, 0, 0, 0, 0, 0, 0, 0, 0, 0, 0, 0, 0, 0, 0, 0, 0, 0, 0, 0, 0, 0, 0, 0, 0, 0, 0, 0, 0, 0, 0, 0, 0, 0, 0, 0, 0, 0, 0, 0, 0, 0, 0, 0, 0, 0, 0, 0, 0, 0, 0, 0, 0, 0, 0, 0, 0, 0, 0, 0, 0, 0, 0, 0, 0, 0, 0, 0, 0, 0, 0, 0, 0, 0, 0, 0, 0, 0, 0, 0, 0, 0, 0, 0, 0, 0, 0, 0, 0, 0, 0, 0, 0, 0, 0, 0, 0, 0, 0, 0, 0, 0, 0, 0, 0, 0, 0, 0, 0, 0, 0, 0, 0, 0, 0, 0, 0, 0, 0, 0, 0, 0, 0, 0, 0, 0, 0, 0, 0, 0, 0, 0, 0, 0, 0, 0, 0, 0, 0, 0, 0, 0, 0, 0, 0, 0, 0, 0, 0, 0, 0, 0, 0, 0, 0, 0, 0, 0, 0, 0, 0, 0, 0, 0, 0, 0, 0, 0, 0, 0, 0, 0, 0, 0, 0, 0, 0, 0, 0, 0, 0, 0, 0, 0, 0, 0, 0, 0, 0, 0, 0, 0, 0, 0, 0, 0, 0, 0, 0, 0, 0, 0, 0, 0, 0, 0, 0, 0, 0, 0, 0, 0, 0, 0, 0, 0, 0, 0, 0, 0, 0, 0, 0, 0, 0, 0, 0, 0, 0, 0, 0, 0, 0, 0, 0, 0, 0, 0, 0, 0, 0, 0, 0, 0, 0, 0, 0, 0, 0, 0, 0, 0, 0, 0, 0, 0, 0, 0, 0, 0, 0, 0, 0, 0, 0, 0, 0, 0, 0, 0, 0, 0, 0, 0, 0, 0, 0, 0, 0, 0, 0, 0, 0, 0, 0, 0, 0, 0, 0, 0, 0, 0, 0, 0, 0, 0, 0, 0, 0, 0, 0, 0, 0, 0, 0, 0, 0, 0, 0, 0, 0, 0, 0, 0, 0, 0, 0, 0, 0, 0, 0, 0, 0, 0, 0, 0, 0, 0, 0, 0]\n",
      "torch.Size([981, 3, 20, 32, 32])\n",
      "Finished reading the  Dataset (981 samples found)\n"
     ]
    },
    {
     "name": "stderr",
     "output_type": "stream",
     "text": [
      "100%|██████████| 31/31 [00:19<00:00,  1.63it/s]\n"
     ]
    },
    {
     "name": "stdout",
     "output_type": "stream",
     "text": [
      "[1, 1, 0, 0, 0, 0, 0, 0, 0, 0, 1, 1, 1, 1, 1, 1, 1, 1, 1, 1, 1, 1, 1, 1, 1, 1, 1, 1, 1, 1, 1, 1, 1, 1, 1, 1, 1, 1, 1, 1, 1, 1, 1, 1, 1, 1, 1, 1, 1, 1, 1, 1, 1, 1, 1, 1, 1, 1, 1, 1, 1, 1, 0, 0, 0, 0, 0, 0, 0, 0, 0, 0, 0, 0, 0, 0, 0, 0, 0, 0, 0, 0, 0, 0, 0, 0, 0, 0, 0, 0, 0, 1, 1, 1, 1, 1, 1, 1, 1, 1, 1, 1, 1, 1, 1, 1, 1, 0, 1, 0, 0, 0, 0, 0, 0, 0, 0, 0, 0, 0, 0, 0, 0, 0, 0, 0, 0, 0, 0, 0, 0, 0, 0, 0, 0, 0, 0, 0, 0, 0, 0, 0, 0, 0, 0, 0, 0, 0, 0, 0, 0, 0, 0, 0, 0, 0, 0, 0, 0, 0, 0, 0, 0, 0, 0, 0, 0, 0, 0, 0, 0, 0, 0, 0, 0, 0, 0, 0, 0, 0, 0, 0, 0, 0, 0, 0, 0, 0, 0, 0, 0, 0, 0, 0, 0, 0, 0, 0, 0, 0, 0, 0, 0, 0, 0, 0, 0, 0, 0, 0, 0, 0, 0, 0, 0, 0, 0, 0, 0, 0, 0, 0, 0, 0, 0, 0, 0, 0, 0, 0, 0, 0, 0, 0, 0, 0, 0, 0, 0, 0, 0, 0, 0, 0, 0, 0, 0, 0, 0, 0, 0, 0, 0, 0, 0, 0, 0, 0, 0, 0, 0, 0, 0, 0, 0, 0, 0, 0, 0, 0, 0, 0, 0, 0, 0, 0, 0, 0, 0, 0, 0, 0, 0, 0, 0, 0, 0, 0, 0, 0, 0, 0, 0, 0, 0, 0, 0, 0, 0, 0, 0, 0, 0, 0, 0, 0, 0, 0, 0, 0, 0, 0, 0, 0, 1, 0, 1, 0, 1, 1, 1, 1, 1, 1, 1, 1, 1, 1, 1, 1, 1, 1, 1, 1, 1, 0, 0, 0, 0, 0, 0, 0, 0, 0, 0, 0, 0, 0, 0, 0, 0, 0, 0, 0, 0, 0, 1, 1, 1, 1, 1, 1, 1, 1, 1, 1, 1, 1, 1, 1, 1, 1, 1, 1, 1, 1, 1, 0, 0, 0, 0, 0, 0, 0, 0, 0, 0, 0, 0, 0, 0, 0, 0, 0, 0, 0, 0, 0, 0, 0, 0, 0, 0, 0, 0, 0, 0, 0, 0, 0, 1, 1, 1, 1, 0, 1, 1, 1, 1, 1, 1, 0, 1, 0, 0, 0, 0, 0, 0, 0, 0, 0, 0, 0, 0, 0, 0, 0, 0, 0, 0, 0, 0, 0, 0, 0, 0, 0, 0, 0, 0, 0, 0, 0, 0, 0, 0, 0, 0, 0, 0, 0, 0, 0, 0, 0, 1, 1, 1, 1, 1, 1, 1, 1, 1, 1, 1, 1, 1, 1, 1, 1, 1, 1, 1, 1, 1, 1, 1, 1, 1, 1, 1, 1, 1, 1, 1, 1, 1, 1, 1, 1, 1, 1, 1, 1, 1, 1, 0, 0, 0, 0, 0, 0, 0, 0, 0, 0, 0, 0, 0, 0, 0, 0, 0, 0, 0, 0, 0, 0, 0, 0, 0, 0, 0, 0, 0, 0, 0, 0, 0, 0, 0, 0, 0, 0, 0, 0, 0, 0, 0, 0, 0, 0, 0, 0, 0, 0, 0, 0, 0, 0, 0, 0, 0, 0, 0, 0, 0, 0, 0, 0, 0, 0, 0, 0, 0, 0, 0, 0, 0, 0, 0, 0, 0, 0, 0, 0, 0, 0, 0, 0, 0, 0, 0, 0, 0, 0, 0, 0, 0, 0, 0, 0, 0, 0, 0, 0, 0, 0, 0, 0, 0, 0, 0, 0, 0, 0, 0, 0, 0, 0, 0, 0, 0, 0, 0, 0, 0, 0, 0, 0, 0, 0, 0, 0, 0, 0, 0, 0, 0, 0, 0, 0, 0, 0, 0, 0, 0, 0, 0, 0, 0, 0, 0, 0, 0, 0, 0, 0, 0, 0, 0, 0, 0, 0, 0, 0, 0, 0, 0, 0, 0, 0, 0, 0, 0, 0, 0, 0, 0, 0, 0, 0, 0, 0, 0, 0, 0, 0, 0, 0, 0, 0, 0, 0, 0, 0, 0, 0, 0, 0, 0, 0, 0, 0, 0, 0, 0, 0, 0, 0, 0, 0, 0, 0, 0, 0, 0, 0, 0, 0, 0, 0, 0, 0, 0, 0, 0, 0, 0, 0, 0, 0, 0, 0, 0, 0, 0, 0, 0, 0, 0, 0, 0, 0, 0, 0, 0, 0, 0, 0, 0, 0, 0, 0, 0, 0, 0, 0, 0, 0, 0, 0, 0, 0, 0, 0, 0, 0, 0, 0, 0, 0, 0, 0, 0, 0, 0, 0, 0, 0, 0, 0, 0, 0, 0, 0, 0, 0, 0, 0, 0, 0, 0, 0, 0, 0, 0, 0, 0, 0, 0, 0, 0, 0, 0, 0, 0, 0, 0, 0, 0, 0, 0, 0, 0, 0, 0, 0, 0, 0, 0, 0, 0, 0, 0, 0, 0, 0, 0, 0, 0, 0, 0, 0, 0, 0, 0, 0, 0, 0, 0, 0, 0, 0, 0, 0, 0, 0, 0, 0, 0, 0, 0, 0, 0, 0, 0, 0, 0, 0, 0, 0, 0, 0, 0, 0, 0, 0, 0, 0, 0, 0, 0, 0, 0, 0, 0, 0, 0, 0, 0, 0, 0, 0, 0, 0, 0, 0, 0, 0, 0, 0, 0, 0, 0, 0, 0, 0, 0, 0, 0, 0, 0, 0, 0, 0, 0, 0, 0, 0, 0, 0, 0, 0, 0, 0, 0, 0, 0, 0, 0, 0, 0, 0, 0, 0, 0, 0, 0, 0, 0, 0, 0, 0, 0, 0, 0, 0, 0, 0, 0, 0, 0, 0, 0, 0, 0, 0, 0, 0, 0, 0, 0, 0, 0, 0, 0, 0, 0, 0, 0, 0, 0, 0, 0, 0, 0, 0, 0, 0, 0, 0, 0, 0, 0, 0, 0, 0, 0]\n",
      "torch.Size([502, 3, 20, 32, 32])\n",
      "Finished reading the  Dataset (502 samples found)\n"
     ]
    },
    {
     "name": "stderr",
     "output_type": "stream",
     "text": [
      "100%|██████████| 16/16 [00:10<00:00,  1.56it/s]\n"
     ]
    },
    {
     "name": "stdout",
     "output_type": "stream",
     "text": [
      "[1, 1, 1, 1, 1, 1, 1, 1, 1, 1, 1, 1, 1, 1, 1, 1, 1, 1, 1, 1, 1, 1, 1, 1, 1, 1, 1, 1, 1, 1, 1, 1, 1, 1, 1, 1, 1, 1, 1, 1, 1, 1, 1, 1, 1, 1, 1, 1, 1, 1, 1, 1, 1, 1, 1, 1, 1, 1, 1, 1, 1, 1, 1, 1, 1, 1, 1, 1, 1, 1, 1, 1, 1, 1, 1, 1, 1, 1, 1, 1, 1, 1, 1, 1, 1, 1, 1, 1, 1, 1, 1, 1, 1, 1, 1, 1, 1, 1, 1, 1, 1, 1, 1, 1, 1, 1, 1, 1, 1, 1, 1, 1, 1, 1, 1, 1, 1, 1, 1, 1, 1, 1, 1, 1, 1, 1, 1, 1, 1, 1, 1, 1, 1, 1, 1, 1, 1, 1, 1, 1, 1, 1, 1, 1, 1, 1, 1, 1, 1, 1, 1, 1, 1, 1, 1, 1, 1, 1, 1, 1, 1, 1, 1, 1, 1, 1, 1, 1, 1, 1, 1, 1, 1, 1, 1, 1, 1, 1, 1, 1, 1, 1, 1, 1, 1, 1, 1, 1, 1, 1, 1, 1, 1, 1, 1, 1, 1, 1, 1, 1, 1, 1, 1, 1, 1, 1, 1, 1, 1, 1, 1, 1, 1, 1, 1, 1, 1, 1, 1, 1, 1, 1, 1, 1, 1, 1, 1, 1, 1, 1, 1, 1, 1, 1, 1, 1, 1, 1, 1, 1, 1, 1, 1, 1, 1, 1, 1, 1, 1, 1, 1, 1, 1, 1, 1, 1, 1, 1, 1, 1, 1, 1, 1, 1, 1, 1, 1, 1, 1, 1, 1, 1, 1, 1, 1, 1, 1, 1, 1, 1, 1, 1, 1, 1, 1, 1, 1, 1, 1, 1, 1, 1, 1, 1, 1, 1, 1, 1, 1, 1, 1, 1, 1, 1, 1, 1, 1, 1, 1, 1, 1, 1, 1, 1, 1, 1, 1, 1, 1, 1, 1, 1, 1, 1, 1, 1, 1, 1, 1, 1, 1, 1, 1, 1, 1, 1, 1, 1, 1, 1, 1, 1, 1, 1, 1, 1, 1, 1, 1, 1, 1, 1, 1, 1, 1, 1, 1, 1, 1, 1, 1, 1, 1, 1, 1, 1, 1, 1, 1, 1, 1, 1, 1, 0, 0, 0, 1, 0, 0, 0, 0, 1, 1, 1, 1, 1, 1, 1, 1, 0, 0, 0, 0, 0, 0, 0, 0, 0, 0, 0, 0, 0, 0, 1, 1, 1, 1, 1, 1, 1, 0, 0, 0, 0, 0, 0, 0, 0, 0, 0, 0, 0, 0, 0, 0, 0, 0, 0, 0, 0, 0, 0, 1, 1, 1, 1, 1, 1, 1, 1, 1, 1, 1, 0, 0, 0, 0, 0, 0, 0, 0, 0, 0, 0, 0, 0, 0, 0, 0, 0, 0, 0, 0, 0, 0, 0, 0, 0, 0, 0, 0, 0, 0, 0, 1, 1, 0, 0, 0, 0, 0, 0, 0, 0, 0, 0, 0, 0, 0, 0, 0, 0, 0, 0, 0, 1, 1, 1, 1, 1, 1, 1]\n",
      "torch.Size([602, 3, 20, 32, 32])\n",
      "Finished reading the  Dataset (602 samples found)\n"
     ]
    },
    {
     "name": "stderr",
     "output_type": "stream",
     "text": [
      "100%|██████████| 19/19 [00:12<00:00,  1.58it/s]"
     ]
    },
    {
     "name": "stdout",
     "output_type": "stream",
     "text": [
      "[0, 0, 0, 0, 0, 0, 0, 0, 0, 0, 0, 0, 0, 0, 0, 0, 0, 0, 0, 0, 0, 0, 0, 0, 0, 0, 0, 0, 0, 0, 0, 0, 0, 0, 0, 0, 0, 0, 0, 0, 0, 0, 0, 0, 0, 0, 0, 0, 0, 0, 0, 0, 0, 0, 0, 0, 0, 0, 0, 0, 0, 0, 0, 0, 0, 0, 0, 0, 0, 0, 0, 0, 0, 0, 0, 0, 0, 0, 0, 0, 0, 0, 0, 0, 0, 0, 0, 0, 0, 0, 0, 0, 0, 0, 0, 0, 0, 0, 0, 0, 0, 0, 0, 0, 0, 0, 0, 0, 0, 0, 0, 0, 0, 0, 0, 0, 0, 0, 0, 0, 0, 0, 0, 0, 0, 0, 0, 0, 0, 0, 0, 0, 0, 0, 0, 0, 0, 0, 0, 0, 0, 0, 0, 0, 0, 0, 0, 0, 0, 0, 0, 0, 0, 0, 0, 0, 0, 0, 0, 0, 0, 0, 0, 0, 0, 0, 0, 0, 0, 0, 0, 0, 0, 0, 0, 0, 0, 0, 0, 0, 0, 0, 0, 0, 0, 0, 0, 0, 0, 0, 0, 0, 0, 0, 0, 0, 0, 0, 0, 0, 0, 0, 0, 0, 0, 0, 0, 0, 0, 0, 0, 0, 0, 0, 0, 0, 0, 0, 0, 0, 0, 0, 0, 0, 0, 0, 0, 0, 0, 0, 0, 0, 0, 0, 0, 0, 0, 0, 0, 0, 0, 0, 0, 0, 0, 0, 0, 0, 0, 0, 0, 0, 0, 0, 0, 0, 0, 0, 0, 0, 0, 0, 0, 0, 0, 0, 0, 0, 0, 0, 0, 0, 0, 0, 0, 0, 0, 0, 0, 0, 0, 0, 0, 0, 0, 0, 0, 0, 0, 0, 0, 0, 0, 0, 0, 0, 0, 0, 0, 0, 0, 0, 0, 0, 0, 0, 0, 0, 0, 0, 0, 0, 0, 0, 0, 0, 0, 0, 0, 0, 0, 0, 0, 0, 0, 0, 0, 0, 0, 0, 0, 0, 0, 0, 0, 0, 0, 0, 0, 0, 0, 0, 0, 0, 0, 0, 0, 0, 0, 0, 0, 0, 0, 0, 0, 0, 0, 0, 0, 0, 0, 0, 0, 0, 0, 0, 0, 0, 0, 0, 0, 0, 0, 0, 0, 0, 0, 0, 0, 0, 0, 0, 0, 0, 0, 0, 0, 0, 0, 0, 0, 0, 0, 0, 0, 0, 0, 0, 0, 0, 0, 0, 0, 0, 0, 0, 0, 0, 0, 0, 0, 0, 0, 0, 0, 0, 0, 0, 0, 0, 0, 0, 0, 0, 0, 0, 0, 0, 0, 0, 0, 0, 0, 0, 0, 0, 0, 0, 0, 0, 0, 0, 0, 0, 0, 0, 0, 0, 0, 0, 0, 0, 0, 0, 0, 0, 0, 0, 0, 0, 0, 0, 0, 0, 0, 0, 0, 0, 0, 0, 0, 0, 0, 0, 0, 0, 0, 0, 0, 0, 0, 0, 0, 0, 0, 0, 0, 0, 0, 0, 0, 0, 0, 0, 0, 0, 0, 0, 0, 0, 0, 0, 0, 0, 0, 0, 0, 0, 0, 0, 0, 0, 0, 0, 0, 0, 0, 0, 0, 0, 0, 0, 0, 0, 0, 0, 0, 0, 0, 0, 0, 0, 0, 0, 0, 0, 0, 0, 0, 0, 0, 0, 0, 0, 0, 0, 0, 0, 0, 0, 0, 0, 0, 0, 0, 0, 0, 0, 0, 0, 0, 0, 0, 0, 0, 0, 0, 0, 0, 0, 0, 0, 0, 0, 0, 0, 0, 0, 0, 0, 0, 0, 0, 0, 0, 0, 0, 0, 0, 0, 0, 0, 0, 0, 0, 0, 0, 0, 0, 0, 0, 0]\n"
     ]
    },
    {
     "name": "stderr",
     "output_type": "stream",
     "text": [
      "\n"
     ]
    }
   ],
   "source": [
    "#预测\n",
    "import pandas as pd\n",
    "test_data_file = \"../CNN/data/test_data/\"\n",
    "def test_data(i):\n",
    "    date_path = f\"{test_data_file}\" + \"testdata\" + f\"{i}\" + \".mat\"\n",
    "    data_image = np.array(h5py.File(date_path)[\"video\"], dtype=np.float32)\n",
    "    data_image=np.expand_dims(data_image,axis=2)  #增加维度\n",
    "    video_image=np.empty(shape=(len(data_image)-20+1,3,20,32,32),dtype=np.float32)\n",
    "    for i in range(len(data_image)-20+1):\n",
    "        for j  in range(20):\n",
    "            if j != 0:\n",
    "                video_image_20=np.append(video_image_20,data_image[i+j,:,:,:,:],axis=1)\n",
    "            else:\n",
    "                video_image_20=data_image[i+j,:,:,:,:]\n",
    "        video_image_20=np.expand_dims(video_image_20,axis=0)  #增加维度\n",
    "        video_image[i,:,:,:,:]=video_image_20\n",
    "    output_video_image=video_image\n",
    "    # print(f\"video_image.size:{video_image.shape}\")\n",
    "    image_tensor = torch.tensor(output_video_image, dtype=torch.float32)\n",
    "    real_len = len(image_tensor)\n",
    "    print(image_tensor.shape)\n",
    "    return image_tensor,real_len\n",
    "\n",
    "class test_result_Dataset(Dataset):\n",
    "    def __init__(self,image_data,data_len):\n",
    "        \"\"\"\n",
    "        Args:\n",
    "            file_path (string): 图像文件 路径\n",
    "        \"\"\"\n",
    "        self.image_tensor=image_data\n",
    "        self.real_len=data_len\n",
    "        print('Finished reading the  Dataset ({} samples found)'.format(self.real_len))\n",
    "    def __getitem__(self, index):\n",
    "        # 从 image_arr中得到索引对应的文件名\n",
    "        return self.image_tensor[index, :, :, :]\n",
    "    def __len__(self):\n",
    "        return self.real_len\n",
    "\n",
    "model=ResNet10_3D()\n",
    "model_path=\"../CNN/model_weights_3dResNet10_0.9430027008056641.pth\"\n",
    "model.load_state_dict(torch.load(model_path,map_location=torch.device('cpu')))\n",
    "model.eval()\n",
    "batch_size=32\n",
    "for i in range(5,9):\n",
    "    test_data_image,test_data_len=test_data(i)\n",
    "    test_dataset = test_result_Dataset(test_data_image,test_data_len)\n",
    "    test_Dataloader = torch.utils.data.DataLoader(dataset=test_dataset, batch_size=batch_size, shuffle=False,drop_last=False)\n",
    "    predictions = []\n",
    "    for batch in tqdm(test_Dataloader):\n",
    "        imgs = batch\n",
    "        with torch.no_grad():\n",
    "            logits = model(imgs.to(device))\n",
    "        predictions.extend(logits.argmax(dim=-1).cpu().numpy().tolist())\n",
    "    excel_path=\"../CNN/data/test_data/testdata\"+f\"{i}\"+\"_cls.xlsx\"\n",
    "    index=np.array(range(1,test_data_len+1)).tolist()\n",
    "    data_toexcel={\"index\":index,\"result\":predictions}\n",
    "    data_toexcel = pd.DataFrame(data_toexcel)\n",
    "    data_toexcel.to_excel(excel_path, sheet_name=\"sheet1\",index=False)\n",
    "    print(predictions)"
   ],
   "metadata": {
    "collapsed": false
   }
  }
 ],
 "metadata": {
  "kernelspec": {
   "display_name": "Python 3",
   "language": "python",
   "name": "python3"
  },
  "language_info": {
   "codemirror_mode": {
    "name": "ipython",
    "version": 2
   },
   "file_extension": ".py",
   "mimetype": "text/x-python",
   "name": "python",
   "nbconvert_exporter": "python",
   "pygments_lexer": "ipython2",
   "version": "2.7.6"
  }
 },
 "nbformat": 4,
 "nbformat_minor": 0
}
